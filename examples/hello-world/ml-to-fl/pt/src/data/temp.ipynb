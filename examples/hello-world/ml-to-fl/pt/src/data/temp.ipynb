{
 "cells": [
  {
   "cell_type": "code",
   "execution_count": 3,
   "metadata": {},
   "outputs": [],
   "source": [
    "import torch\n",
    "import pandas as pd\n",
    "import numpy as np\n",
    "from torch.utils.data import DataLoader, Dataset\n",
    "from sklearn.model_selection import train_test_split\n",
    "from sklearn.preprocessing import StandardScaler\n",
    "from sklearn.utils.class_weight import compute_class_weight\n",
    "from imblearn.combine import SMOTETomek \n",
    "import matplotlib.pyplot as plt\n"
   ]
  },
  {
   "cell_type": "code",
   "execution_count": 4,
   "metadata": {},
   "outputs": [],
   "source": [
    "def check_data_leakage(X_train, X_valid, X_test):\n",
    "    train_df = pd.DataFrame(X_train)\n",
    "    valid_df = pd.DataFrame(X_valid)\n",
    "    test_df = pd.DataFrame(X_test)\n",
    "\n",
    "    overlap_train_test = test_df.merge(train_df, how=\"inner\")\n",
    "    overlap_train_valid = test_df.merge(valid_df, how=\"inner\")\n",
    "\n",
    "    print(f\"Overlapping samples between Train & Test: {len(overlap_train_test)}\")\n",
    "    print(f\"Overlapping samples between Validation & Test: {len(overlap_train_valid)}\")"
   ]
  },
  {
   "cell_type": "code",
   "execution_count": 5,
   "metadata": {},
   "outputs": [],
   "source": [
    "\n",
    "def add_noise(X_train, mean=0, sigma=0.1):\n",
    "    \"\"\"\n",
    "    Adds Gaussian noise to the training data.\n",
    "    Args:\n",
    "        X_train (numpy array): Training features.\n",
    "        mean (float): Mean of Gaussian noise.\n",
    "        sigma (float): Standard deviation of noise.\n",
    "\n",
    "    Returns:\n",
    "        numpy array: Noisy training features.\n",
    "    \"\"\"\n",
    "    noise = np.random.normal(mean, sigma, X_train.shape)\n",
    "    return X_train + noise"
   ]
  },
  {
   "cell_type": "code",
   "execution_count": 8,
   "metadata": {},
   "outputs": [],
   "source": [
    "# Load dataset from CSV\n",
    "df = pd.read_csv(\"./creditcard.csv\")\n",
    "\n",
    "# Standardize features first\n",
    "scaler = StandardScaler()\n",
    "df['scaled_amount'] = scaler.fit_transform(df['Amount'].values.reshape(-1,1))\n",
    "df['scaled_time'] = scaler.fit_transform(df['Time'].values.reshape(-1,1))\n",
    "\n",
    "# Drop original Time and Amount columns\n",
    "df.drop(['Time','Amount'], axis=1, inplace=True)\n",
    "\n",
    "# Extract features & labels after scaling is done\n",
    "X = df.drop(columns=['Class']).values\n",
    "y = df['Class'].values"
   ]
  },
  {
   "cell_type": "code",
   "execution_count": 9,
   "metadata": {},
   "outputs": [],
   "source": [
    "\n",
    "# Compute class weights\n",
    "class_weights = compute_class_weight(class_weight=\"balanced\", classes=np.unique(y), y=y.tolist())\n",
    "class_weights = torch.tensor(class_weights, dtype=torch.float32)  # Convert to PyTorch tensor\n",
    "\n",
    "# Split into train (80%) and test (20%)\n",
    "X_train, X_test, y_train, y_test = train_test_split(X, y, test_size=0.2, stratify=y, random_state=42)\n"
   ]
  },
  {
   "cell_type": "code",
   "execution_count": 10,
   "metadata": {},
   "outputs": [
    {
     "name": "stdout",
     "output_type": "stream",
     "text": [
      "Applying SMOTE to balance training data...\n"
     ]
    }
   ],
   "source": [
    "print(\"Applying SMOTE to balance training data...\")\n",
    "smote = SMOTETomek(sampling_strategy=0.4, random_state=42)\n",
    "X_train, y_train = smote.fit_resample(X_train, y_train)"
   ]
  },
  {
   "cell_type": "code",
   "execution_count": 11,
   "metadata": {},
   "outputs": [
    {
     "name": "stdout",
     "output_type": "stream",
     "text": [
      "Dataset Distribution:\n",
      "Total samples: 284807\n",
      "Class 0 (Non-Fraud): 284315 samples (99.83%)\n",
      "Class 1 (Fraud): 492 samples (0.17%)\n",
      "\n",
      "Train-Test Split:\n",
      "Training set: 318431 samples\n",
      "  - Class 0 (Non-Fraud): 227451 samples (71.43%)\n",
      "  - Class 1 (Fraud): 90980 samples (28.57%)\n",
      "Test set: 56962 samples\n",
      "  - Class 0 (Non-Fraud): 56864 samples (99.83%)\n",
      "  - Class 1 (Fraud): 98 samples (0.17%)\n"
     ]
    }
   ],
   "source": [
    "print(\"Dataset Distribution:\")\n",
    "print(f\"Total samples: {len(y)}\")\n",
    "print(f\"Class 0 (Non-Fraud): {np.sum(y == 0)} samples ({np.sum(y == 0)/len(y)*100:.2f}%)\")\n",
    "print(f\"Class 1 (Fraud): {np.sum(y == 1)} samples ({np.sum(y == 1)/len(y)*100:.2f}%)\")\n",
    "print(\"\\nTrain-Test Split:\")\n",
    "print(f\"Training set: {len(y_train)} samples\")\n",
    "print(f\"  - Class 0 (Non-Fraud): {np.sum(y_train == 0)} samples ({np.sum(y_train == 0)/len(y_train)*100:.2f}%)\")\n",
    "print(f\"  - Class 1 (Fraud): {np.sum(y_train == 1)} samples ({np.sum(y_train == 1)/len(y_train)*100:.2f}%)\")\n",
    "print(f\"Test set: {len(y_test)} samples\")\n",
    "print(f\"  - Class 0 (Non-Fraud): {np.sum(y_test == 0)} samples ({np.sum(y_test == 0)/len(y_test)*100:.2f}%)\")\n",
    "print(f\"  - Class 1 (Fraud): {np.sum(y_test == 1)} samples ({np.sum(y_test == 1)/len(y_test)*100:.2f}%)\")"
   ]
  },
  {
   "cell_type": "code",
   "execution_count": 12,
   "metadata": {},
   "outputs": [],
   "source": [
    "noise_std = 0.1  # You can adjust this parameter\n",
    "X_train = add_noise(X_train, sigma=noise_std)  # Add noise"
   ]
  },
  {
   "cell_type": "code",
   "execution_count": 13,
   "metadata": {},
   "outputs": [
    {
     "name": "stdout",
     "output_type": "stream",
     "text": [
      "\n",
      "Training Data (After Noise):\n",
      "Training set: 318431 samples\n",
      "  - Class 0 (Non-Fraud): 227451 samples (71.43%)\n",
      "  - Class 1 (Fraud): 90980 samples (28.57%)\n",
      "  - Feature statistics: Mean=-0.3963, Std=2.8100\n",
      "\n",
      "Test Data:\n",
      "Test set: 56962 samples\n",
      "  - Class 0 (Non-Fraud): 56864 samples (99.83%)\n",
      "  - Class 1 (Fraud): 98 samples (0.17%)\n",
      "  - Feature statistics: Mean=-0.0001, Std=1.0475\n"
     ]
    }
   ],
   "source": [
    "# Print post-noise training data stats\n",
    "print(\"\\nTraining Data (After Noise):\")\n",
    "print(f\"Training set: {len(y_train)} samples\")\n",
    "print(f\"  - Class 0 (Non-Fraud): {np.sum(y_train == 0)} samples ({np.sum(y_train == 0)/len(y_train)*100:.2f}%)\")\n",
    "print(f\"  - Class 1 (Fraud): {np.sum(y_train == 1)} samples ({np.sum(y_train == 1)/len(y_train)*100:.2f}%)\")\n",
    "print(f\"  - Feature statistics: Mean={X_train.mean():.4f}, Std={X_train.std():.4f}\")\n",
    "\n",
    "# Print test data stats\n",
    "print(\"\\nTest Data:\")\n",
    "print(f\"Test set: {len(y_test)} samples\")\n",
    "print(f\"  - Class 0 (Non-Fraud): {np.sum(y_test == 0)} samples ({np.sum(y_test == 0)/len(y_test)*100:.2f}%)\")\n",
    "print(f\"  - Class 1 (Fraud): {np.sum(y_test == 1)} samples ({np.sum(y_test == 1)/len(y_test)*100:.2f}%)\")\n",
    "print(f\"  - Feature statistics: Mean={X_test.mean():.4f}, Std={X_test.std():.4f}\")"
   ]
  },
  {
   "cell_type": "code",
   "execution_count": 14,
   "metadata": {},
   "outputs": [],
   "source": [
    "validation_fraction = 0.2  # You can adjust this parameter\n",
    "if validation_fraction > 0:\n",
    "    X_train, X_valid, y_train, y_valid = train_test_split(\n",
    "        X_train, y_train, test_size=validation_fraction, stratify=y_train, random_state=42\n",
    "    )\n",
    "else:\n",
    "    X_valid, y_valid = None, None  # Assign None to avoid UnboundLocalError"
   ]
  },
  {
   "cell_type": "code",
   "execution_count": 15,
   "metadata": {},
   "outputs": [
    {
     "name": "stdout",
     "output_type": "stream",
     "text": [
      "\n",
      "Checking for data leakage...\n",
      "Overlapping samples between Train & Test: 0\n",
      "Overlapping samples between Validation & Test: 0\n"
     ]
    }
   ],
   "source": [
    "if X_valid is not None and X_test is not None:\n",
    "    print(\"\\nChecking for data leakage...\")\n",
    "    check_data_leakage(X_train, X_valid, X_test)"
   ]
  },
  {
   "cell_type": "code",
   "execution_count": 28,
   "metadata": {},
   "outputs": [
    {
     "name": "stdout",
     "output_type": "stream",
     "text": [
      "\n",
      "Final Dataset Distributions:\n",
      "Original dataset: 284807 samples\n",
      "  - Class 0 (Non-Fraud): 284315 samples (99.83%)\n",
      "  - Class 1 (Fraud): 492 samples (0.17%)\n",
      "\n",
      "Training set: 254744 samples\n",
      "  - Class 0 (Non-Fraud): 181960 samples (71.43%)\n",
      "  - Class 1 (Fraud): 72784 samples (28.57%)\n",
      "\n",
      "Validation set: 63687 samples\n",
      "  - Class 0 (Non-Fraud): 45491 samples (71.43%)\n",
      "  - Class 1 (Fraud): 18196 samples (28.57%)\n",
      "\n",
      "Test set: 56962 samples\n",
      "  - Class 0 (Non-Fraud): 56864 samples (99.83%)\n",
      "  - Class 1 (Fraud): 98 samples (0.17%)\n"
     ]
    }
   ],
   "source": [
    "print(\"\\nFinal Dataset Distributions:\")\n",
    "print(f\"Original dataset: {len(y)} samples\")\n",
    "print(f\"  - Class 0 (Non-Fraud): {np.sum(y == 0)} samples ({np.sum(y == 0)/len(y)*100:.2f}%)\")\n",
    "print(f\"  - Class 1 (Fraud): {np.sum(y == 1)} samples ({np.sum(y == 1)/len(y)*100:.2f}%)\")\n",
    "\n",
    "print(f\"\\nTraining set: {len(y_train)} samples\")\n",
    "print(f\"  - Class 0 (Non-Fraud): {np.sum(y_train == 0)} samples ({np.sum(y_train == 0)/len(y_train)*100:.2f}%)\")\n",
    "print(f\"  - Class 1 (Fraud): {np.sum(y_train == 1)} samples ({np.sum(y_train == 1)/len(y_train)*100:.2f}%)\")\n",
    "\n",
    "if X_valid is not None:\n",
    "    print(f\"\\nValidation set: {len(y_valid)} samples\")\n",
    "    print(f\"  - Class 0 (Non-Fraud): {np.sum(y_valid == 0)} samples ({np.sum(y_valid == 0)/len(y_valid)*100:.2f}%)\")\n",
    "    print(f\"  - Class 1 (Fraud): {np.sum(y_valid == 1)} samples ({np.sum(y_valid == 1)/len(y_valid)*100:.2f}%)\")\n",
    "\n",
    "print(f\"\\nTest set: {len(y_test)} samples\")\n",
    "print(f\"  - Class 0 (Non-Fraud): {np.sum(y_test == 0)} samples ({np.sum(y_test == 0)/len(y_test)*100:.2f}%)\")\n",
    "print(f\"  - Class 1 (Fraud): {np.sum(y_test == 1)} samples ({np.sum(y_test == 1)/len(y_test)*100:.2f}%)\")"
   ]
  },
  {
   "cell_type": "code",
   "execution_count": 16,
   "metadata": {},
   "outputs": [
    {
     "data": {
      "image/png": "[encoded data removed]",
      "text/plain": [
       "<Figure size 1500x800 with 1 Axes>"
      ]
     },
     "metadata": {},
     "output_type": "display_data"
    }
   ],
   "source": [
    "plt.figure(figsize=(15, 8))\n",
    "\n",
    "# Plot 1: Count distribution\n",
    "plt.subplot(2, 1, 1)\n",
    "datasets = ['Original', 'Train', 'Validation', 'Test']\n",
    "non_fraud_counts = [np.sum(y == 0), np.sum(y_train == 0), np.sum(y_valid == 0), np.sum(y_test == 0)]\n",
    "fraud_counts = [np.sum(y == 1), np.sum(y_train == 1), np.sum(y_valid == 1), np.sum(y_test == 1)]\n",
    "\n",
    "x = np.arange(len(datasets))\n",
    "width = 0.35\n",
    "\n",
    "plt.bar(x - width/2, non_fraud_counts, width, label='Non-Fraud (0)')\n",
    "plt.bar(x + width/2, fraud_counts, width, label='Fraud (1)')\n",
    "plt.yscale('log')\n",
    "plt.xlabel('Dataset')\n",
    "plt.ylabel('Count (log scale)')\n",
    "plt.title('Class Distribution Across Datasets')\n",
    "plt.xticks(x, datasets)\n",
    "plt.legend()\n",
    "plt.grid(True, alpha=0.3)\n",
    "\n",
    "\n",
    "\n",
    "plt.tight_layout()\n",
    "plt.show()"
   ]
  },
  {
   "cell_type": "code",
   "execution_count": 28,
   "metadata": {},
   "outputs": [
    {
     "name": "stdout",
     "output_type": "stream",
     "text": [
      "[-0.91346768 -0.52573506  0.73337331 -0.70805609  2.15383896  3.70395211\n",
      " -0.80050378  1.04717341 -1.72492933  0.51297295 -0.52212028 -0.65596014\n",
      "  0.40108814  0.07197799  1.50583217 -1.10712744 -0.54827227  2.28239781\n",
      " -0.13078754  0.07643861 -0.15405371 -0.39784001 -0.0361439   0.95606445\n",
      "  0.42833208 -0.15240036  0.08711025  0.10140009 -0.07736145 -0.41593315]\n",
      "30\n"
     ]
    }
   ],
   "source": [
    "CHECK_IDX = 18\n",
    "print(X_test[CHECK_IDX])\n",
    "print(len(X_test[CHECK_IDX]))"
   ]
  },
  {
   "cell_type": "code",
   "execution_count": 29,
   "metadata": {},
   "outputs": [
    {
     "name": "stdout",
     "output_type": "stream",
     "text": [
      "[-3.17990934  3.06840107 -5.45571397  2.53525895 -1.46644623 -2.15766651\n",
      " -3.61783441  0.40899829 -0.14010881 -5.50717861  5.40408725 -8.64567989\n",
      "  0.94900324 -8.18088724  0.03131969 -4.22980763 -6.31654715 -1.59485217\n",
      "  0.20474783 -0.08988478  1.06509165 -0.13040026  0.26004062  0.41668331\n",
      " -0.17078057  0.01633849 -0.47410678  0.93726424 -0.28754434 -0.71657769]\n",
      "30\n"
     ]
    }
   ],
   "source": [
    "print(X_train[CHECK_IDX])\n",
    "print(len(X_train[CHECK_IDX]))"
   ]
  },
  {
   "cell_type": "code",
   "execution_count": 30,
   "metadata": {},
   "outputs": [
    {
     "name": "stdout",
     "output_type": "stream",
     "text": [
      "[ 1.88637051 -0.38243772 -0.36067728  1.16071736 -0.41896507  0.01207451\n",
      " -0.82956814  0.15285289  0.90534831  0.36170781  0.32080932 -0.07836471\n",
      " -1.68557869  0.4831181   0.04912577  0.90571311 -1.03152015  0.69548342\n",
      "  0.02141679 -0.27366116 -0.08764279 -0.53360159  0.41497404 -0.65017173\n",
      " -0.14602202 -0.90080507  0.14657598  0.01995263 -0.46057737  0.39866155]\n",
      "30\n"
     ]
    }
   ],
   "source": [
    "print(X_valid[CHECK_IDX])\n",
    "print(len(X_valid[CHECK_IDX]))"
   ]
  },
  {
   "cell_type": "code",
   "execution_count": null,
   "metadata": {},
   "outputs": [],
   "source": []
  }
 ],
 "metadata": {
  "kernelspec": {
   "display_name": "nvflare_example",
   "language": "python",
   "name": "python3"
  },
  "language_info": {
   "codemirror_mode": {
    "name": "ipython",
    "version": 3
   },
   "file_extension": ".py",
   "mimetype": "text/x-python",
   "name": "python",
   "nbconvert_exporter": "python",
   "pygments_lexer": "ipython3",
   "version": "3.12.3"
  }
 },
 "nbformat": 4,
 "nbformat_minor": 2
}
